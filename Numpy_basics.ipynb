{
  "nbformat": 4,
  "nbformat_minor": 0,
  "metadata": {
    "colab": {
      "name": "Numpy_basics.ipynb",
      "provenance": [],
      "collapsed_sections": [],
      "include_colab_link": true
    },
    "kernelspec": {
      "name": "python3",
      "display_name": "Python 3"
    }
  },
  "cells": [
    {
      "cell_type": "markdown",
      "metadata": {
        "id": "view-in-github",
        "colab_type": "text"
      },
      "source": [
        "<a href=\"https://colab.research.google.com/github/reyvnth/Numpy_fundamentals/blob/main/Numpy_basics.ipynb\" target=\"_parent\"><img src=\"https://colab.research.google.com/assets/colab-badge.svg\" alt=\"Open In Colab\"/></a>"
      ]
    },
    {
      "cell_type": "markdown",
      "metadata": {
        "id": "gFK137VnsKxM"
      },
      "source": [
        "## **How to create a numpy array?**"
      ]
    },
    {
      "cell_type": "code",
      "metadata": {
        "id": "Hivm06J5r5Jw"
      },
      "source": [
        "import numpy as np\n",
        "list1 = [10,20,30,40,50]\n",
        "arr1d = np.array(list1)"
      ],
      "execution_count": null,
      "outputs": []
    },
    {
      "cell_type": "code",
      "metadata": {
        "id": "3bsg58ZBsTwX",
        "outputId": "7b7d3621-d7df-4b63-b9df-c43bc5ef5dde",
        "colab": {
          "base_uri": "https://localhost:8080/",
          "height": 34
        }
      },
      "source": [
        "print(type(arr1d))"
      ],
      "execution_count": null,
      "outputs": [
        {
          "output_type": "stream",
          "text": [
            "<class 'numpy.ndarray'>\n"
          ],
          "name": "stdout"
        }
      ]
    },
    {
      "cell_type": "code",
      "metadata": {
        "id": "cEumsfOtsboi",
        "outputId": "95bfdcf8-bfec-4d69-a90e-cb940a666838",
        "colab": {
          "base_uri": "https://localhost:8080/",
          "height": 34
        }
      },
      "source": [
        "print(arr1d)"
      ],
      "execution_count": null,
      "outputs": [
        {
          "output_type": "stream",
          "text": [
            "[10 20 30 40 50]\n"
          ],
          "name": "stdout"
        }
      ]
    },
    {
      "cell_type": "code",
      "metadata": {
        "id": "Q2LuX8XktDPq",
        "outputId": "8a6ff7d0-504f-495a-b556-1cb9a080383e",
        "colab": {
          "base_uri": "https://localhost:8080/",
          "height": 70
        }
      },
      "source": [
        "# Create a 2d array from a list of lists\n",
        "list2 = [[1,12,23], [34,45,56], [67,78,89]]\n",
        "\n",
        "arr2d = np.array(list2)\n",
        "arr2d"
      ],
      "execution_count": null,
      "outputs": [
        {
          "output_type": "execute_result",
          "data": {
            "text/plain": [
              "array([[ 1, 12, 23],\n",
              "       [34, 45, 56],\n",
              "       [67, 78, 89]])"
            ]
          },
          "metadata": {
            "tags": []
          },
          "execution_count": 4
        }
      ]
    },
    {
      "cell_type": "code",
      "metadata": {
        "id": "8jUDeGgBtJJa",
        "outputId": "a9f647ec-5c9f-4b17-ee1f-28a7ccf5dfe9",
        "colab": {
          "base_uri": "https://localhost:8080/",
          "height": 70
        }
      },
      "source": [
        "# Create a float 2d array\n",
        "\n",
        "arry= np.array(list2, dtype='float')\n",
        "\n",
        "arry"
      ],
      "execution_count": null,
      "outputs": [
        {
          "output_type": "execute_result",
          "data": {
            "text/plain": [
              "array([[ 1., 12., 23.],\n",
              "       [34., 45., 56.],\n",
              "       [67., 78., 89.]])"
            ]
          },
          "metadata": {
            "tags": []
          },
          "execution_count": 5
        }
      ]
    },
    {
      "cell_type": "code",
      "metadata": {
        "id": "IkEVAce1tQKl",
        "outputId": "ecb17517-99eb-4c50-bff3-d5e81ee6ce69",
        "colab": {
          "base_uri": "https://localhost:8080/",
          "height": 70
        }
      },
      "source": [
        "# Convert to 'int' datatype\n",
        "arry.astype('int')"
      ],
      "execution_count": null,
      "outputs": [
        {
          "output_type": "execute_result",
          "data": {
            "text/plain": [
              "array([[ 1, 12, 23],\n",
              "       [34, 45, 56],\n",
              "       [67, 78, 89]])"
            ]
          },
          "metadata": {
            "tags": []
          },
          "execution_count": 6
        }
      ]
    },
    {
      "cell_type": "code",
      "metadata": {
        "id": "STw_yIfKtVPJ",
        "outputId": "f259b899-2746-4eed-95dc-ca5debbb68da",
        "colab": {
          "base_uri": "https://localhost:8080/",
          "height": 70
        }
      },
      "source": [
        "# Convert to int then to str datatype\n",
        "arry.astype('str')\n",
        "\n",
        "#> array([['0', '1', '2'],\n",
        "#>        ['3', '4', '5'],\n",
        "#>        ['6', '7', '8']],\n",
        "#>       dtype='U21')"
      ],
      "execution_count": null,
      "outputs": [
        {
          "output_type": "execute_result",
          "data": {
            "text/plain": [
              "array([['1.0', '12.0', '23.0'],\n",
              "       ['34.0', '45.0', '56.0'],\n",
              "       ['67.0', '78.0', '89.0']], dtype='<U32')"
            ]
          },
          "metadata": {
            "tags": []
          },
          "execution_count": 7
        }
      ]
    },
    {
      "cell_type": "code",
      "metadata": {
        "id": "JZr20hUStqfg",
        "outputId": "3f276e63-6f48-456e-9e05-ee82c872734b",
        "colab": {
          "base_uri": "https://localhost:8080/",
          "height": 34
        }
      },
      "source": [
        "arry.tolist()"
      ],
      "execution_count": null,
      "outputs": [
        {
          "output_type": "execute_result",
          "data": {
            "text/plain": [
              "[[1.0, 12.0, 23.0], [34.0, 45.0, 56.0], [67.0, 78.0, 89.0]]"
            ]
          },
          "metadata": {
            "tags": []
          },
          "execution_count": 8
        }
      ]
    },
    {
      "cell_type": "markdown",
      "metadata": {
        "id": "QvUwgVUjZPLf"
      },
      "source": [
        "Size and shape of a Numpy Array"
      ]
    },
    {
      "cell_type": "code",
      "metadata": {
        "id": "Knja9RZst2Tl",
        "outputId": "5ef9f414-2685-4c19-d870-5e4155c305c5",
        "colab": {
          "base_uri": "https://localhost:8080/",
          "height": 70
        }
      },
      "source": [
        "# Create a 2d array with 3 rows and 4 columns\n",
        "list2 = [[11, 22, 33, 44],[33, 44, 55, 66], [55, 66, 77, 88]]\n",
        "arr2 = np.array(list2, dtype='float')\n",
        "arr2"
      ],
      "execution_count": null,
      "outputs": [
        {
          "output_type": "execute_result",
          "data": {
            "text/plain": [
              "array([[11., 22., 33., 44.],\n",
              "       [33., 44., 55., 66.],\n",
              "       [55., 66., 77., 88.]])"
            ]
          },
          "metadata": {
            "tags": []
          },
          "execution_count": 9
        }
      ]
    },
    {
      "cell_type": "code",
      "metadata": {
        "id": "KUYQun90UlJz",
        "outputId": "cf5934e9-fd2a-48de-ba3d-3e93ebac34c6",
        "colab": {
          "base_uri": "https://localhost:8080/",
          "height": 87
        }
      },
      "source": [
        "# shape\n",
        "print('Shape: ', arr2.shape)\n",
        "\n",
        "# dtype\n",
        "print('Datatype: ', arr2.dtype)\n",
        "\n",
        "# size\n",
        "print('Size: ', arr2.size)\n",
        "\n",
        "# ndim\n",
        "print('Num Dimensions: ', arr2.ndim)"
      ],
      "execution_count": null,
      "outputs": [
        {
          "output_type": "stream",
          "text": [
            "Shape:  (3, 4)\n",
            "Datatype:  float64\n",
            "Size:  12\n",
            "Num Dimensions:  2\n"
          ],
          "name": "stdout"
        }
      ]
    },
    {
      "cell_type": "markdown",
      "metadata": {
        "id": "A5LRIU0sZe9s"
      },
      "source": [
        "Extract Specific Items from the array"
      ]
    },
    {
      "cell_type": "code",
      "metadata": {
        "id": "MoHBuaB9Zb0F",
        "outputId": "b1c42ba1-0ad4-4ffb-f8bb-fde2f9d4e8b3",
        "colab": {
          "base_uri": "https://localhost:8080/",
          "height": 70
        }
      },
      "source": [
        "arr2"
      ],
      "execution_count": null,
      "outputs": [
        {
          "output_type": "execute_result",
          "data": {
            "text/plain": [
              "array([[11., 22., 33., 44.],\n",
              "       [33., 44., 55., 66.],\n",
              "       [55., 66., 77., 88.]])"
            ]
          },
          "metadata": {
            "tags": []
          },
          "execution_count": 11
        }
      ]
    },
    {
      "cell_type": "markdown",
      "metadata": {
        "id": "xb2NPXiwa0eZ"
      },
      "source": [
        " Reverse the rows and the whole array"
      ]
    },
    {
      "cell_type": "code",
      "metadata": {
        "id": "8uO2SYhZaxCS",
        "outputId": "944c0114-9f4e-4bff-bbf7-2d7cbf42f8d5",
        "colab": {
          "base_uri": "https://localhost:8080/",
          "height": 70
        }
      },
      "source": [
        "# Reverse only the row positions\n",
        "arr2[::-1, ]"
      ],
      "execution_count": null,
      "outputs": [
        {
          "output_type": "execute_result",
          "data": {
            "text/plain": [
              "array([[55., 66., 77., 88.],\n",
              "       [33., 44., 55., 66.],\n",
              "       [11., 22., 33., 44.]])"
            ]
          },
          "metadata": {
            "tags": []
          },
          "execution_count": 12
        }
      ]
    },
    {
      "cell_type": "code",
      "metadata": {
        "id": "TxNUeXi4a7IN",
        "outputId": "67793b82-a3a8-451f-d543-441033503786",
        "colab": {
          "base_uri": "https://localhost:8080/",
          "height": 70
        }
      },
      "source": [
        "# Reverse the row and column positions\n",
        "arr2[::-1, ::-1]"
      ],
      "execution_count": null,
      "outputs": [
        {
          "output_type": "execute_result",
          "data": {
            "text/plain": [
              "array([[88., 77., 66., 55.],\n",
              "       [66., 55., 44., 33.],\n",
              "       [44., 33., 22., 11.]])"
            ]
          },
          "metadata": {
            "tags": []
          },
          "execution_count": 13
        }
      ]
    },
    {
      "cell_type": "markdown",
      "metadata": {
        "id": "UtwXkYRKbRch"
      },
      "source": [
        "# Compute mean, min, max on the ndarray"
      ]
    },
    {
      "cell_type": "code",
      "metadata": {
        "id": "P2-9mMUcbOLI",
        "outputId": "d835a51a-5931-4b38-bca2-c9644e106804",
        "colab": {
          "base_uri": "https://localhost:8080/",
          "height": 68
        }
      },
      "source": [
        "# mean, max and min\n",
        "print(\"Mean value is: \", arr2.mean())\n",
        "print(\"Max value is: \", arr2.max())\n",
        "print(\"Min value is: \", arr2.min())"
      ],
      "execution_count": null,
      "outputs": [
        {
          "output_type": "stream",
          "text": [
            "Mean value is:  49.5\n",
            "Max value is:  88.0\n",
            "Min value is:  11.0\n"
          ],
          "name": "stdout"
        }
      ]
    },
    {
      "cell_type": "code",
      "metadata": {
        "id": "oePKuBGabVwF",
        "outputId": "b8ac1cd0-5a22-44f4-d429-ae18009b66e1",
        "colab": {
          "base_uri": "https://localhost:8080/",
          "height": 51
        }
      },
      "source": [
        "# Row wise and column wise min\n",
        "print(\"Column wise minimum: \", np.amin(arr2, axis=0))\n",
        "print(\"Row wise minimum: \", np.amin(arr2, axis=1))"
      ],
      "execution_count": null,
      "outputs": [
        {
          "output_type": "stream",
          "text": [
            "Column wise minimum:  [11. 22. 33. 44.]\n",
            "Row wise minimum:  [11. 33. 55.]\n"
          ],
          "name": "stdout"
        }
      ]
    },
    {
      "cell_type": "code",
      "metadata": {
        "id": "rR_vnXcIbaJ9",
        "outputId": "a8f9346c-4d2a-4825-a5fd-9cdb60aa28f2",
        "colab": {
          "base_uri": "https://localhost:8080/",
          "height": 51
        }
      },
      "source": [
        "# Cumulative Sum\n",
        "np.cumsum(arr2)"
      ],
      "execution_count": null,
      "outputs": [
        {
          "output_type": "execute_result",
          "data": {
            "text/plain": [
              "array([ 11.,  33.,  66., 110., 143., 187., 242., 308., 363., 429., 506.,\n",
              "       594.])"
            ]
          },
          "metadata": {
            "tags": []
          },
          "execution_count": 17
        }
      ]
    },
    {
      "cell_type": "markdown",
      "metadata": {
        "id": "62WSPwSxbhA2"
      },
      "source": [
        "Creating a new array from an existing array"
      ]
    },
    {
      "cell_type": "code",
      "metadata": {
        "id": "EVuR0hv9beKI",
        "outputId": "565e3026-3043-4331-f0dc-41913c71d77d",
        "colab": {
          "base_uri": "https://localhost:8080/",
          "height": 68
        }
      },
      "source": [
        "# Assign portion of arr2 to arr2a. Doesn't really create a new array.\n",
        "arr2a = arr2[:2,:2]  \n",
        "arr2a[:1, :1] = 100  # 100 will reflect in arr2\n",
        "arr2"
      ],
      "execution_count": null,
      "outputs": [
        {
          "output_type": "execute_result",
          "data": {
            "text/plain": [
              "array([[100.,  22.,  33.,  44.],\n",
              "       [ 33.,  44.,  55.,  66.],\n",
              "       [ 55.,  66.,  77.,  88.]])"
            ]
          },
          "metadata": {
            "tags": []
          },
          "execution_count": 18
        }
      ]
    },
    {
      "cell_type": "code",
      "metadata": {
        "id": "-9xDFISWbntj",
        "outputId": "3ccb2537-1372-49a4-d79e-ea1ce40c8e80",
        "colab": {
          "base_uri": "https://localhost:8080/",
          "height": 68
        }
      },
      "source": [
        "# Copy portion of arr2 to arr2b\n",
        "arr2b = arr2[:2, :2].copy()\n",
        "arr2b[:1, :1] = 101  # 101 will not reflect in arr2\n",
        "arr2"
      ],
      "execution_count": null,
      "outputs": [
        {
          "output_type": "execute_result",
          "data": {
            "text/plain": [
              "array([[100.,  22.,  33.,  44.],\n",
              "       [ 33.,  44.,  55.,  66.],\n",
              "       [ 55.,  66.,  77.,  88.]])"
            ]
          },
          "metadata": {
            "tags": []
          },
          "execution_count": 19
        }
      ]
    },
    {
      "cell_type": "markdown",
      "metadata": {
        "id": "k0vRsO4cbtdY"
      },
      "source": [
        "Reshaping and Flattening Multidimensional arrays"
      ]
    },
    {
      "cell_type": "code",
      "metadata": {
        "id": "H5RYagRlbqlU",
        "outputId": "28c421e3-c9a6-4406-fae4-f72a09884d4d",
        "colab": {
          "base_uri": "https://localhost:8080/",
          "height": 85
        }
      },
      "source": [
        "# Reshape a 3x4 array to 4x3 array\n",
        "arr2.reshape(4, 3)"
      ],
      "execution_count": null,
      "outputs": [
        {
          "output_type": "execute_result",
          "data": {
            "text/plain": [
              "array([[100.,  22.,  33.],\n",
              "       [ 44.,  33.,  44.],\n",
              "       [ 55.,  66.,  55.],\n",
              "       [ 66.,  77.,  88.]])"
            ]
          },
          "metadata": {
            "tags": []
          },
          "execution_count": 20
        }
      ]
    },
    {
      "cell_type": "markdown",
      "metadata": {
        "id": "nRjDsF7tcFkw"
      },
      "source": [
        "Difference between flatten() and ravel()"
      ]
    },
    {
      "cell_type": "code",
      "metadata": {
        "id": "bg5eYv0BbxFq",
        "outputId": "6b13a628-9fd4-4177-bb8f-4d404535738d",
        "colab": {
          "base_uri": "https://localhost:8080/",
          "height": 51
        }
      },
      "source": [
        "# Flatten it to a 1d array\n",
        "arr2.flatten()"
      ],
      "execution_count": null,
      "outputs": [
        {
          "output_type": "execute_result",
          "data": {
            "text/plain": [
              "array([100.,  22.,  33.,  44.,  33.,  44.,  55.,  66.,  55.,  66.,  77.,\n",
              "        88.])"
            ]
          },
          "metadata": {
            "tags": []
          },
          "execution_count": 21
        }
      ]
    },
    {
      "cell_type": "code",
      "metadata": {
        "id": "MoH45kLAcKI2",
        "outputId": "95a5e53a-bec1-4c3f-e915-c816945d56e4",
        "colab": {
          "base_uri": "https://localhost:8080/",
          "height": 68
        }
      },
      "source": [
        "# Changing the flattened array does not change parent\n",
        "b1 = arr2.flatten()  \n",
        "b1[0] = 100  # changing b1 does not affect arr2\n",
        "arr2"
      ],
      "execution_count": null,
      "outputs": [
        {
          "output_type": "execute_result",
          "data": {
            "text/plain": [
              "array([[100.,  22.,  33.,  44.],\n",
              "       [ 33.,  44.,  55.,  66.],\n",
              "       [ 55.,  66.,  77.,  88.]])"
            ]
          },
          "metadata": {
            "tags": []
          },
          "execution_count": 22
        }
      ]
    },
    {
      "cell_type": "code",
      "metadata": {
        "id": "5uI5aOtRcNkS",
        "outputId": "f045a4a9-923b-4630-d465-7e6e357b0c57",
        "colab": {
          "base_uri": "https://localhost:8080/",
          "height": 68
        }
      },
      "source": [
        "# Changing the raveled array changes the parent also.\n",
        "b2 = arr2.ravel()  \n",
        "b2[0] = 101  # changing b2 changes arr2 also\n",
        "arr2"
      ],
      "execution_count": null,
      "outputs": [
        {
          "output_type": "execute_result",
          "data": {
            "text/plain": [
              "array([[101.,  22.,  33.,  44.],\n",
              "       [ 33.,  44.,  55.,  66.],\n",
              "       [ 55.,  66.,  77.,  88.]])"
            ]
          },
          "metadata": {
            "tags": []
          },
          "execution_count": 23
        }
      ]
    },
    {
      "cell_type": "markdown",
      "metadata": {
        "id": "o4IsO3nCcaNj"
      },
      "source": [
        "Create sequences, repetitions and random numbers using Numpy"
      ]
    },
    {
      "cell_type": "code",
      "metadata": {
        "id": "7lC33Je7cVHM",
        "outputId": "aaf7ec3a-83ab-416d-9ce1-b2756b84ee53",
        "colab": {
          "base_uri": "https://localhost:8080/",
          "height": 34
        }
      },
      "source": [
        "# Lower limit is 0 be default\n",
        "print(np.arange(11))  \n",
        "\n"
      ],
      "execution_count": null,
      "outputs": [
        {
          "output_type": "stream",
          "text": [
            "[ 0  1  2  3  4  5  6  7  8  9 10]\n"
          ],
          "name": "stdout"
        }
      ]
    },
    {
      "cell_type": "code",
      "metadata": {
        "id": "31HlDx91SF9g",
        "outputId": "4aa2bc8b-0376-497d-e4d5-f64a91f4a439",
        "colab": {
          "base_uri": "https://localhost:8080/",
          "height": 34
        }
      },
      "source": [
        "# 0 to 9\n",
        "print(np.arange(2, 14))  \n"
      ],
      "execution_count": null,
      "outputs": [
        {
          "output_type": "stream",
          "text": [
            "[ 2  3  4  5  6  7  8  9 10 11 12 13]\n"
          ],
          "name": "stdout"
        }
      ]
    },
    {
      "cell_type": "code",
      "metadata": {
        "id": "MkRcP4HWSHL5",
        "outputId": "a6cf3274-9e15-441a-dd12-52c5118b4ca7",
        "colab": {
          "base_uri": "https://localhost:8080/",
          "height": 34
        }
      },
      "source": [
        "\n",
        "# 0 to 9 with step of 2\n",
        "print(np.arange(1, 18, 2))  \n"
      ],
      "execution_count": null,
      "outputs": [
        {
          "output_type": "stream",
          "text": [
            "[ 1  3  5  7  9 11 13 15 17]\n"
          ],
          "name": "stdout"
        }
      ]
    },
    {
      "cell_type": "code",
      "metadata": {
        "id": "Sz2bhwb1SIO6",
        "outputId": "476fdb7b-e17a-4f99-8932-8add3b260cc3",
        "colab": {
          "base_uri": "https://localhost:8080/",
          "height": 34
        }
      },
      "source": [
        "\n",
        "# 10 to 1, decreasing order\n",
        "print(np.arange(10, 0, -1))"
      ],
      "execution_count": null,
      "outputs": [
        {
          "output_type": "stream",
          "text": [
            "[10  9  8  7  6  5  4  3  2  1]\n"
          ],
          "name": "stdout"
        }
      ]
    },
    {
      "cell_type": "code",
      "metadata": {
        "id": "wNtiNRp5cjD_",
        "outputId": "bb34630a-8e73-42b9-8aa8-bfd8d0c46c31",
        "colab": {
          "base_uri": "https://localhost:8080/",
          "height": 34
        }
      },
      "source": [
        "# Start at 1 and end at 50\n",
        "np.linspace(start=1, stop=50, num=14, dtype=int)"
      ],
      "execution_count": null,
      "outputs": [
        {
          "output_type": "execute_result",
          "data": {
            "text/plain": [
              "array([ 1,  4,  8, 12, 16, 19, 23, 27, 31, 34, 38, 42, 46, 50])"
            ]
          },
          "metadata": {
            "tags": []
          },
          "execution_count": 31
        }
      ]
    },
    {
      "cell_type": "code",
      "metadata": {
        "id": "55YzyGnEcnaV"
      },
      "source": [
        "# Limit the number of digits after the decimal to 2\n",
        "np.set_printoptions(precision=2)  \n",
        "\n"
      ],
      "execution_count": null,
      "outputs": []
    },
    {
      "cell_type": "code",
      "metadata": {
        "id": "uwSFfQNKSENp",
        "outputId": "72170a07-60bd-4ea5-a735-b5a89faa2461",
        "colab": {
          "base_uri": "https://localhost:8080/",
          "height": 51
        }
      },
      "source": [
        "# Start at 10^1 and end at 10^50\n",
        "np.logspace(start=1, stop=50, num=10, base=10) "
      ],
      "execution_count": null,
      "outputs": [
        {
          "output_type": "execute_result",
          "data": {
            "text/plain": [
              "array([1.00e+01, 2.78e+06, 7.74e+11, 2.15e+17, 5.99e+22, 1.67e+28,\n",
              "       4.64e+33, 1.29e+39, 3.59e+44, 1.00e+50])"
            ]
          },
          "metadata": {
            "tags": []
          },
          "execution_count": 33
        }
      ]
    },
    {
      "cell_type": "code",
      "metadata": {
        "id": "1yfbnB01cxc9",
        "outputId": "c0818b6d-6e10-43d5-8f38-fdf3c71e9ab2",
        "colab": {
          "base_uri": "https://localhost:8080/",
          "height": 68
        }
      },
      "source": [
        "#The np.zeros and np.ones functions lets you create arrays of desired shape where all the items are either 0’s or 1’s.\n",
        "np.zeros([3,3])"
      ],
      "execution_count": null,
      "outputs": [
        {
          "output_type": "execute_result",
          "data": {
            "text/plain": [
              "array([[0., 0., 0.],\n",
              "       [0., 0., 0.],\n",
              "       [0., 0., 0.]])"
            ]
          },
          "metadata": {
            "tags": []
          },
          "execution_count": 34
        }
      ]
    },
    {
      "cell_type": "code",
      "metadata": {
        "id": "z1m2DPr3c-Zg",
        "outputId": "17688dab-e3b1-40f3-82b2-95ec9e3f1766",
        "colab": {
          "base_uri": "https://localhost:8080/",
          "height": 68
        }
      },
      "source": [
        "np.ones([3,3])"
      ],
      "execution_count": null,
      "outputs": [
        {
          "output_type": "execute_result",
          "data": {
            "text/plain": [
              "array([[1., 1., 1.],\n",
              "       [1., 1., 1.],\n",
              "       [1., 1., 1.]])"
            ]
          },
          "metadata": {
            "tags": []
          },
          "execution_count": 35
        }
      ]
    },
    {
      "cell_type": "markdown",
      "metadata": {
        "id": "2wQr0zW5dYmX"
      },
      "source": [
        "Generating Random Numbers"
      ]
    },
    {
      "cell_type": "code",
      "metadata": {
        "id": "HUmjludDdLrV",
        "outputId": "0a58d7e5-32d0-4e55-c126-d229b694d916",
        "colab": {
          "base_uri": "https://localhost:8080/",
          "height": 68
        }
      },
      "source": [
        "# Random numbers between [0,1) of shape 2,2\n",
        "print(np.random.rand(3,3))\n",
        "\n"
      ],
      "execution_count": null,
      "outputs": [
        {
          "output_type": "stream",
          "text": [
            "[[0.23 0.75 0.37]\n",
            " [0.57 0.2  0.69]\n",
            " [0.47 0.58 0.88]]\n"
          ],
          "name": "stdout"
        }
      ]
    },
    {
      "cell_type": "code",
      "metadata": {
        "id": "xKId0YU-R6Gf",
        "outputId": "de6069ea-a3db-474f-9f77-ddcd5627a073",
        "colab": {
          "base_uri": "https://localhost:8080/",
          "height": 68
        }
      },
      "source": [
        "\n",
        "# Normal distribution with mean=0 and variance=1 of shape 2,2\n",
        "print(np.random.randn(3,3))\n",
        "\n"
      ],
      "execution_count": null,
      "outputs": [
        {
          "output_type": "stream",
          "text": [
            "[[ 2.46  1.56  0.07]\n",
            " [ 0.51 -2.08 -0.89]\n",
            " [ 0.53 -1.3  -0.82]]\n"
          ],
          "name": "stdout"
        }
      ]
    },
    {
      "cell_type": "code",
      "metadata": {
        "id": "XUqMpsILR73t",
        "outputId": "744c29d5-ce89-498d-d9f7-bf82944d2968",
        "colab": {
          "base_uri": "https://localhost:8080/",
          "height": 68
        }
      },
      "source": [
        "# Random integers between [0, 10) of shape 2,2\n",
        "print(np.random.randint(0, 20, size=[3,3]))\n",
        "\n"
      ],
      "execution_count": null,
      "outputs": [
        {
          "output_type": "stream",
          "text": [
            "[[13 16  1]\n",
            " [ 6  8 19]\n",
            " [19 17 18]]\n"
          ],
          "name": "stdout"
        }
      ]
    },
    {
      "cell_type": "code",
      "metadata": {
        "id": "Oq1GYgbsR9Vj",
        "outputId": "acaf3a05-661a-4b8b-8d03-022091d45b68",
        "colab": {
          "base_uri": "https://localhost:8080/",
          "height": 34
        }
      },
      "source": [
        "# One random number between [0,1)\n",
        "print(np.random.random())\n"
      ],
      "execution_count": null,
      "outputs": [
        {
          "output_type": "stream",
          "text": [
            "0.3986247584737075\n"
          ],
          "name": "stdout"
        }
      ]
    },
    {
      "cell_type": "code",
      "metadata": {
        "id": "XYu5xQUsR_T6",
        "outputId": "c8dc24f7-9a2a-4dd7-87e1-e798c7560e8c",
        "colab": {
          "base_uri": "https://localhost:8080/",
          "height": 68
        }
      },
      "source": [
        "# Random numbers between [0,1) of shape 2,2\n",
        "print(np.random.random(size=[3,3]))\n"
      ],
      "execution_count": null,
      "outputs": [
        {
          "output_type": "stream",
          "text": [
            "[[0.5  0.66 0.85]\n",
            " [0.14 0.17 0.52]\n",
            " [0.25 0.05 0.8 ]]\n"
          ],
          "name": "stdout"
        }
      ]
    },
    {
      "cell_type": "code",
      "metadata": {
        "id": "Vs0kWewcSAyK",
        "outputId": "5fe4ca99-ad7a-4a82-d776-d5e3f91f3a2f",
        "colab": {
          "base_uri": "https://localhost:8080/",
          "height": 34
        }
      },
      "source": [
        "\n",
        "# Pick 10 items from a given list, with equal probability\n",
        "print(np.random.choice(['a', 'e', 'i', 'o', 'u'], size=10))  \n"
      ],
      "execution_count": null,
      "outputs": [
        {
          "output_type": "stream",
          "text": [
            "['e' 'a' 'u' 'i' 'o' 'u' 'i' 'o' 'o' 'i']\n"
          ],
          "name": "stdout"
        }
      ]
    },
    {
      "cell_type": "code",
      "metadata": {
        "id": "mXXFka2NSCZy",
        "outputId": "fb7142c1-a5c8-4993-a15c-605fa0418d4f",
        "colab": {
          "base_uri": "https://localhost:8080/",
          "height": 34
        }
      },
      "source": [
        "# Pick 10 items from a given list with a predefined probability 'p'\n",
        "print(np.random.choice(['a', 'e', 'i', 'o', 'u'], size=10, p=[0.3, .1, 0.1, 0.4, 0.1]))  # picks more o's"
      ],
      "execution_count": null,
      "outputs": [
        {
          "output_type": "stream",
          "text": [
            "['o' 'o' 'o' 'a' 'i' 'o' 'o' 'u' 'o' 'a']\n"
          ],
          "name": "stdout"
        }
      ]
    },
    {
      "cell_type": "code",
      "metadata": {
        "id": "zWjBuJ4kdr8P",
        "outputId": "2d1840a9-6b58-4170-8890-c77dfa26c912",
        "colab": {
          "base_uri": "https://localhost:8080/",
          "height": 51
        }
      },
      "source": [
        "# Create the random state\n",
        "rn = np.random.RandomState(100)\n",
        "\n",
        "# Create random numbers between [0,1) of shape 2,2\n",
        "print(rn.rand(2,2))"
      ],
      "execution_count": null,
      "outputs": [
        {
          "output_type": "stream",
          "text": [
            "[[0.54 0.28]\n",
            " [0.42 0.84]]\n"
          ],
          "name": "stdout"
        }
      ]
    },
    {
      "cell_type": "code",
      "metadata": {
        "id": "GO1-YTjrdxwz",
        "outputId": "2865b648-8d1d-462f-8328-f62b1fcc2701",
        "colab": {
          "base_uri": "https://localhost:8080/",
          "height": 51
        }
      },
      "source": [
        "# Set the random seed\n",
        "np.random.seed(100)\n",
        "\n",
        "# Create random numbers between [0,1) of shape 2,2\n",
        "print(np.random.rand(2,2))"
      ],
      "execution_count": null,
      "outputs": [
        {
          "output_type": "stream",
          "text": [
            "[[0.54 0.28]\n",
            " [0.42 0.84]]\n"
          ],
          "name": "stdout"
        }
      ]
    },
    {
      "cell_type": "markdown",
      "metadata": {
        "id": "cW1zyjm5d7GD"
      },
      "source": [
        "Getting the unique items and the counts"
      ]
    },
    {
      "cell_type": "code",
      "metadata": {
        "id": "CkfNH3_hd1Q7",
        "outputId": "fc930ec6-140c-470a-e289-a67ed1df3a7f",
        "colab": {
          "base_uri": "https://localhost:8080/",
          "height": 34
        }
      },
      "source": [
        "# Create random integers of size 10 between [0,10)\n",
        "np.random.seed(100)\n",
        "arr_rand = np.random.randint(0, 10, size=10)\n",
        "print(arr_rand)"
      ],
      "execution_count": null,
      "outputs": [
        {
          "output_type": "stream",
          "text": [
            "[8 8 3 7 7 0 4 2 5 2]\n"
          ],
          "name": "stdout"
        }
      ]
    },
    {
      "cell_type": "code",
      "metadata": {
        "id": "oNBDIS3BeEOb",
        "outputId": "ad53c27a-2b13-4ec9-e2fa-8227b543bb7e",
        "colab": {
          "base_uri": "https://localhost:8080/",
          "height": 51
        }
      },
      "source": [
        "# Get the unique items and their counts\n",
        "uniqs, counts = np.unique(arr_rand, return_counts=True)\n",
        "print(\"Unique items : \", uniqs)\n",
        "print(\"Counts       : \", counts)"
      ],
      "execution_count": null,
      "outputs": [
        {
          "output_type": "stream",
          "text": [
            "Unique items :  [0 2 3 4 5 7 8]\n",
            "Counts       :  [1 2 1 1 1 2 2]\n"
          ],
          "name": "stdout"
        }
      ]
    },
    {
      "cell_type": "markdown",
      "metadata": {
        "id": "6LgUfifrhekS"
      },
      "source": [
        " Getting index locations that satisfy a given condition using np.where"
      ]
    },
    {
      "cell_type": "code",
      "metadata": {
        "id": "0JYbI4I5eJwT",
        "outputId": "4b4e685e-d2b6-4df2-bff5-995d4a407910",
        "colab": {
          "base_uri": "https://localhost:8080/",
          "height": 34
        }
      },
      "source": [
        "# Create an array\n",
        "import numpy as np\n",
        "arr_rand = np.array([85, 18, 13, 87, 87, 0, 14, 42, 65, 12])\n",
        "print(\"Array: \", arr_rand)\n"
      ],
      "execution_count": null,
      "outputs": [
        {
          "output_type": "stream",
          "text": [
            "Array:  [85 18 13 87 87  0 14 42 65 12]\n"
          ],
          "name": "stdout"
        }
      ]
    },
    {
      "cell_type": "code",
      "metadata": {
        "id": "DZuDJ344SNlc",
        "outputId": "29743784-31fa-46ed-bf2a-4bb03cf406e0",
        "colab": {
          "base_uri": "https://localhost:8080/",
          "height": 34
        }
      },
      "source": [
        "\n",
        "# Positions where value > 5\n",
        "index_gt5 = np.where(arr_rand > 5)\n",
        "print(\"Positions where value > 5: \", index_gt5)"
      ],
      "execution_count": null,
      "outputs": [
        {
          "output_type": "stream",
          "text": [
            "Positions where value > 5:  (array([0, 1, 2, 3, 4, 6, 7, 8, 9]),)\n"
          ],
          "name": "stdout"
        }
      ]
    },
    {
      "cell_type": "code",
      "metadata": {
        "id": "kMwpSLxvh98a",
        "outputId": "f6284304-86f3-4c62-d47e-9c3dad45bb14",
        "colab": {
          "base_uri": "https://localhost:8080/",
          "height": 34
        }
      },
      "source": [
        "# Take items at given index\n",
        "arr_rand.take(index_gt5)"
      ],
      "execution_count": null,
      "outputs": [
        {
          "output_type": "execute_result",
          "data": {
            "text/plain": [
              "array([[85, 18, 13, 87, 87, 14, 42, 65, 12]])"
            ]
          },
          "metadata": {
            "tags": []
          },
          "execution_count": 51
        }
      ]
    },
    {
      "cell_type": "code",
      "metadata": {
        "id": "XilagGV_iLoa",
        "outputId": "e8b157a7-c956-41e7-cc4f-028bbb12e054",
        "colab": {
          "base_uri": "https://localhost:8080/",
          "height": 51
        }
      },
      "source": [
        "# If value > 5, then yield 'gt5' else 'le5'\n",
        "np.where(arr_rand > 5, 'gt5', 'le5')"
      ],
      "execution_count": null,
      "outputs": [
        {
          "output_type": "execute_result",
          "data": {
            "text/plain": [
              "array(['gt5', 'gt5', 'gt5', 'gt5', 'gt5', 'le5', 'gt5', 'gt5', 'gt5',\n",
              "       'gt5'], dtype='<U3')"
            ]
          },
          "metadata": {
            "tags": []
          },
          "execution_count": 52
        }
      ]
    },
    {
      "cell_type": "code",
      "metadata": {
        "id": "b3HS24sNiPv1",
        "outputId": "9e00b87a-87d1-4a82-942d-985ca49d6b0d",
        "colab": {
          "base_uri": "https://localhost:8080/",
          "height": 34
        }
      },
      "source": [
        "# Location of the max\n",
        "print('Position of max value: ', np.argmax(arr_rand))  \n"
      ],
      "execution_count": null,
      "outputs": [
        {
          "output_type": "stream",
          "text": [
            "Position of max value:  3\n"
          ],
          "name": "stdout"
        }
      ]
    },
    {
      "cell_type": "code",
      "metadata": {
        "id": "ATlwX8qDSQVB",
        "outputId": "0d1be9f0-14dd-4720-ddd1-106fc0f2a2ab",
        "colab": {
          "base_uri": "https://localhost:8080/",
          "height": 34
        }
      },
      "source": [
        "# Location of the min\n",
        "print('Position of min value: ', np.argmin(arr_rand))  "
      ],
      "execution_count": null,
      "outputs": [
        {
          "output_type": "stream",
          "text": [
            "Position of min value:  5\n"
          ],
          "name": "stdout"
        }
      ]
    },
    {
      "cell_type": "markdown",
      "metadata": {
        "id": "1Ho_ybSDjzOZ"
      },
      "source": [
        "Concatenate two numpy arrays columnwise and row wise"
      ]
    },
    {
      "cell_type": "code",
      "metadata": {
        "id": "qx1XxsujjcNS",
        "outputId": "d682155d-4980-47e7-fcf5-80ae235e9b25",
        "colab": {
          "base_uri": "https://localhost:8080/",
          "height": 102
        }
      },
      "source": [
        "a = np.zeros([5, 5])\n",
        "b = np.ones([5, 5])\n",
        "print(a)\n"
      ],
      "execution_count": null,
      "outputs": [
        {
          "output_type": "stream",
          "text": [
            "[[0. 0. 0. 0. 0.]\n",
            " [0. 0. 0. 0. 0.]\n",
            " [0. 0. 0. 0. 0.]\n",
            " [0. 0. 0. 0. 0.]\n",
            " [0. 0. 0. 0. 0.]]\n"
          ],
          "name": "stdout"
        }
      ]
    },
    {
      "cell_type": "code",
      "metadata": {
        "id": "mm7m6f86SS6F",
        "outputId": "99d3cc08-3878-443f-f56e-3d4692268ada",
        "colab": {
          "base_uri": "https://localhost:8080/",
          "height": 102
        }
      },
      "source": [
        "print(b)"
      ],
      "execution_count": null,
      "outputs": [
        {
          "output_type": "stream",
          "text": [
            "[[1. 1. 1. 1. 1.]\n",
            " [1. 1. 1. 1. 1.]\n",
            " [1. 1. 1. 1. 1.]\n",
            " [1. 1. 1. 1. 1.]\n",
            " [1. 1. 1. 1. 1.]]\n"
          ],
          "name": "stdout"
        }
      ]
    },
    {
      "cell_type": "markdown",
      "metadata": {
        "id": "256PifMLkSog"
      },
      "source": [
        "Sorting a numpy array based on one or more columns"
      ]
    },
    {
      "cell_type": "code",
      "metadata": {
        "id": "LLl-_qdGkOR_",
        "outputId": "afff7615-e205-4754-85f8-3001fcb3c90e",
        "colab": {
          "base_uri": "https://localhost:8080/",
          "height": 136
        }
      },
      "source": [
        "arr = np.random.randint(1,6, size=[7, 3])\n",
        "arr"
      ],
      "execution_count": null,
      "outputs": [
        {
          "output_type": "execute_result",
          "data": {
            "text/plain": [
              "array([[4, 1, 2],\n",
              "       [1, 5, 3],\n",
              "       [1, 1, 3],\n",
              "       [3, 2, 1],\n",
              "       [3, 2, 5],\n",
              "       [3, 1, 4],\n",
              "       [4, 4, 1]])"
            ]
          },
          "metadata": {
            "tags": []
          },
          "execution_count": 60
        }
      ]
    },
    {
      "cell_type": "code",
      "metadata": {
        "id": "FuS4pZJjkccp",
        "outputId": "fb47bbd3-0537-4ead-8712-bcdbd4f4990b",
        "colab": {
          "base_uri": "https://localhost:8080/",
          "height": 136
        }
      },
      "source": [
        "# Sort each columns of arr\n",
        "np.sort(arr, axis=0)"
      ],
      "execution_count": null,
      "outputs": [
        {
          "output_type": "execute_result",
          "data": {
            "text/plain": [
              "array([[1, 1, 1],\n",
              "       [1, 1, 1],\n",
              "       [3, 1, 2],\n",
              "       [3, 2, 3],\n",
              "       [3, 2, 3],\n",
              "       [4, 4, 4],\n",
              "       [4, 5, 5]])"
            ]
          },
          "metadata": {
            "tags": []
          },
          "execution_count": 61
        }
      ]
    },
    {
      "cell_type": "markdown",
      "metadata": {
        "id": "YVPWB_FFkipy"
      },
      "source": [
        "Sorting a numpy array based on 1 column using argsort"
      ]
    },
    {
      "cell_type": "code",
      "metadata": {
        "id": "2yCtU8oSkfQ_",
        "outputId": "41d89aa7-539f-457a-aa59-370020bc40b2",
        "colab": {
          "base_uri": "https://localhost:8080/",
          "height": 34
        }
      },
      "source": [
        "# Get the index positions that would sort the array\n",
        "x = np.array([1, 10, 25, 52, 28, 99])\n",
        "sort_index = np.argsort(x)\n",
        "print(sort_index)"
      ],
      "execution_count": null,
      "outputs": [
        {
          "output_type": "stream",
          "text": [
            "[0 1 2 4 3 5]\n"
          ],
          "name": "stdout"
        }
      ]
    },
    {
      "cell_type": "code",
      "metadata": {
        "id": "RKwG9mZIkrtF",
        "outputId": "91781995-39cc-47bc-9f8b-ddafe97fb2e7",
        "colab": {
          "base_uri": "https://localhost:8080/",
          "height": 34
        }
      },
      "source": [
        "# In array ‘x’, the 0th item is the smallest, 3rd item is the second smallest and so on.\n",
        "\n",
        "x[sort_index]"
      ],
      "execution_count": null,
      "outputs": [
        {
          "output_type": "execute_result",
          "data": {
            "text/plain": [
              "array([ 1, 10, 25, 28, 52, 99])"
            ]
          },
          "metadata": {
            "tags": []
          },
          "execution_count": 64
        }
      ]
    },
    {
      "cell_type": "code",
      "metadata": {
        "id": "HmwbD_Hhk9T-",
        "outputId": "cd18453e-d6c4-4896-efa1-23c959118743",
        "colab": {
          "base_uri": "https://localhost:8080/",
          "height": 136
        }
      },
      "source": [
        "# Argsort the first column\n",
        "sorted_index_1stcol = arr[:, 0].argsort()\n",
        "\n",
        "# Sort 'arr' by first column without disturbing the integrity of rows\n",
        "arr[sorted_index_1stcol]"
      ],
      "execution_count": null,
      "outputs": [
        {
          "output_type": "execute_result",
          "data": {
            "text/plain": [
              "array([[1, 5, 3],\n",
              "       [1, 1, 3],\n",
              "       [3, 2, 1],\n",
              "       [3, 2, 5],\n",
              "       [3, 1, 4],\n",
              "       [4, 1, 2],\n",
              "       [4, 4, 1]])"
            ]
          },
          "metadata": {
            "tags": []
          },
          "execution_count": 65
        }
      ]
    },
    {
      "cell_type": "code",
      "metadata": {
        "id": "0vtLAwCFlCDc",
        "outputId": "ce27af10-fa79-4cdf-e8a7-971ad945bcb1",
        "colab": {
          "base_uri": "https://localhost:8080/",
          "height": 136
        }
      },
      "source": [
        "# Descending sort\n",
        "arr[sorted_index_1stcol[::-1]]"
      ],
      "execution_count": null,
      "outputs": [
        {
          "output_type": "execute_result",
          "data": {
            "text/plain": [
              "array([[4, 4, 1],\n",
              "       [4, 1, 2],\n",
              "       [3, 1, 4],\n",
              "       [3, 2, 5],\n",
              "       [3, 2, 1],\n",
              "       [1, 1, 3],\n",
              "       [1, 5, 3]])"
            ]
          },
          "metadata": {
            "tags": []
          },
          "execution_count": 66
        }
      ]
    },
    {
      "cell_type": "markdown",
      "metadata": {
        "id": "aZsMu8pTlne_"
      },
      "source": [
        "Sorting a numpy array based on 2 or more columns"
      ]
    },
    {
      "cell_type": "code",
      "metadata": {
        "id": "mjlQki-Zlirg",
        "outputId": "a3d3f6b1-af60-43bb-b22c-bce5278cf61c",
        "colab": {
          "base_uri": "https://localhost:8080/",
          "height": 136
        }
      },
      "source": [
        "# Sort by column 0, then by column 1\n",
        "lexsorted_index = np.lexsort((arr[:, 1], arr[:, 0])) \n",
        "arr[lexsorted_index]"
      ],
      "execution_count": null,
      "outputs": [
        {
          "output_type": "execute_result",
          "data": {
            "text/plain": [
              "array([[1, 1, 3],\n",
              "       [1, 5, 3],\n",
              "       [3, 1, 4],\n",
              "       [3, 2, 1],\n",
              "       [3, 2, 5],\n",
              "       [4, 1, 2],\n",
              "       [4, 4, 1]])"
            ]
          },
          "metadata": {
            "tags": []
          },
          "execution_count": 67
        }
      ]
    },
    {
      "cell_type": "markdown",
      "metadata": {
        "id": "vBQdqmwvmDbV"
      },
      "source": [
        "Working with dates"
      ]
    },
    {
      "cell_type": "code",
      "metadata": {
        "id": "h-vdcZgyluq0",
        "outputId": "1d3673dc-e518-4c9b-8a70-71904765e7a5",
        "colab": {
          "base_uri": "https://localhost:8080/",
          "height": 34
        }
      },
      "source": [
        "# Create a datetime64 object\n",
        "date64 = np.datetime64('2020-09-15 16:37:35')\n",
        "date64"
      ],
      "execution_count": null,
      "outputs": [
        {
          "output_type": "execute_result",
          "data": {
            "text/plain": [
              "numpy.datetime64('2020-09-15T16:37:35')"
            ]
          },
          "metadata": {
            "tags": []
          },
          "execution_count": 68
        }
      ]
    },
    {
      "cell_type": "code",
      "metadata": {
        "id": "jVOeW2rLmHPj",
        "outputId": "64815dbe-0422-4a32-f1cf-a0704d32b99b",
        "colab": {
          "base_uri": "https://localhost:8080/",
          "height": 34
        }
      },
      "source": [
        "# Drop the time part from the datetime64 object\n",
        "dt64 = np.datetime64(date64, 'D')\n",
        "dt64"
      ],
      "execution_count": null,
      "outputs": [
        {
          "output_type": "execute_result",
          "data": {
            "text/plain": [
              "numpy.datetime64('2020-09-15')"
            ]
          },
          "metadata": {
            "tags": []
          },
          "execution_count": 69
        }
      ]
    },
    {
      "cell_type": "code",
      "metadata": {
        "id": "lzBrd2z4mMln",
        "outputId": "6ce0c887-c024-4622-ed80-974f19c893cc",
        "colab": {
          "base_uri": "https://localhost:8080/",
          "height": 85
        }
      },
      "source": [
        "# Create the timedeltas (individual units of time)\n",
        "tenminutes = np.timedelta64(10, 'm')  # 10 minutes\n",
        "tenseconds = np.timedelta64(10, 's')  # 10 seconds\n",
        "tennanoseconds = np.timedelta64(10, 'ns')  # 10 nanoseconds\n",
        "\n",
        "print('Add 10 days: ', dt64 + 10)\n",
        "print('Add 10 minutes: ', dt64 + tenminutes)\n",
        "print('Add 10 seconds: ', dt64 + tenseconds)\n",
        "print('Add 10 nanoseconds: ', dt64 + tennanoseconds)"
      ],
      "execution_count": null,
      "outputs": [
        {
          "output_type": "stream",
          "text": [
            "Add 10 days:  2020-09-25\n",
            "Add 10 minutes:  2020-09-15T00:10\n",
            "Add 10 seconds:  2020-09-15T00:00:10\n",
            "Add 10 nanoseconds:  2020-09-15T00:00:00.000000010\n"
          ],
          "name": "stdout"
        }
      ]
    },
    {
      "cell_type": "code",
      "metadata": {
        "id": "R8oHub_YmTc3",
        "outputId": "eb8b588a-9ea2-4c08-9f2b-13546daea082",
        "colab": {
          "base_uri": "https://localhost:8080/",
          "height": 35
        }
      },
      "source": [
        "# Convert np.datetime64 back to a string\n",
        "np.datetime_as_string(dt64)"
      ],
      "execution_count": null,
      "outputs": [
        {
          "output_type": "execute_result",
          "data": {
            "application/vnd.google.colaboratory.intrinsic+json": {
              "type": "string"
            },
            "text/plain": [
              "'2020-09-15'"
            ]
          },
          "metadata": {
            "tags": []
          },
          "execution_count": 71
        }
      ]
    },
    {
      "cell_type": "code",
      "metadata": {
        "id": "Z4u9JIl9mW5G",
        "outputId": "1ed8fe6c-dbbd-49e9-a86f-ed80f7bf9a4d",
        "colab": {
          "base_uri": "https://localhost:8080/",
          "height": 85
        }
      },
      "source": [
        "print('Date: ', dt64)\n",
        "print(\"Is it a business day?: \", np.is_busday(dt64))  \n",
        "print(\"Add 2 business days, rolling forward to nearest biz day: \", np.busday_offset(dt64, 2, roll='forward'))  \n",
        "print(\"Add 2 business days, rolling backward to nearest biz day: \", np.busday_offset(dt64, 2, roll='backward'))  "
      ],
      "execution_count": null,
      "outputs": [
        {
          "output_type": "stream",
          "text": [
            "Date:  2020-09-15\n",
            "Is it a business day?:  True\n",
            "Add 2 business days, rolling forward to nearest biz day:  2020-09-17\n",
            "Add 2 business days, rolling backward to nearest biz day:  2020-09-17\n"
          ],
          "name": "stdout"
        }
      ]
    },
    {
      "cell_type": "markdown",
      "metadata": {
        "id": "AMpWFFNamgGN"
      },
      "source": [
        "Creating a sequence of dates"
      ]
    },
    {
      "cell_type": "code",
      "metadata": {
        "id": "tmll96cwmcgx",
        "outputId": "59517b48-4279-4f31-be2d-b9792e0a172a",
        "colab": {
          "base_uri": "https://localhost:8080/",
          "height": 102
        }
      },
      "source": [
        "# Create date sequence\n",
        "dates = np.arange(np.datetime64('2020-09-01'), np.datetime64('2020-09-15'))\n",
        "print(dates)\n",
        "\n",
        "# Check if its a business day\n",
        "np.is_busday(dates)"
      ],
      "execution_count": null,
      "outputs": [
        {
          "output_type": "stream",
          "text": [
            "['2020-09-01' '2020-09-02' '2020-09-03' '2020-09-04' '2020-09-05'\n",
            " '2020-09-06' '2020-09-07' '2020-09-08' '2020-09-09' '2020-09-10'\n",
            " '2020-09-11' '2020-09-12' '2020-09-13' '2020-09-14']\n"
          ],
          "name": "stdout"
        },
        {
          "output_type": "execute_result",
          "data": {
            "text/plain": [
              "array([ True,  True,  True,  True, False, False,  True,  True,  True,\n",
              "        True,  True, False, False,  True])"
            ]
          },
          "metadata": {
            "tags": []
          },
          "execution_count": 73
        }
      ]
    },
    {
      "cell_type": "markdown",
      "metadata": {
        "id": "JlIpqfRomyWX"
      },
      "source": [
        "Convert numpy.datetime64 to datetime.datetime object"
      ]
    },
    {
      "cell_type": "code",
      "metadata": {
        "id": "i1YuU1scmsMP",
        "outputId": "18a1841b-1101-4ad8-fe97-fb79a5f64d45",
        "colab": {
          "base_uri": "https://localhost:8080/",
          "height": 34
        }
      },
      "source": [
        "# Convert np.datetime64 to datetime.datetime\n",
        "import datetime\n",
        "dt = dt64.tolist()\n",
        "dt"
      ],
      "execution_count": null,
      "outputs": [
        {
          "output_type": "execute_result",
          "data": {
            "text/plain": [
              "datetime.date(2020, 9, 15)"
            ]
          },
          "metadata": {
            "tags": []
          },
          "execution_count": 74
        }
      ]
    },
    {
      "cell_type": "code",
      "metadata": {
        "id": "B35boXpum4oV",
        "outputId": "2a6cd73a-af50-4033-b054-c4f71194ad30",
        "colab": {
          "base_uri": "https://localhost:8080/",
          "height": 85
        }
      },
      "source": [
        "print('Year: ', dt.year)  \n",
        "print('Day of month: ', dt.day)\n",
        "print('Month of year: ', dt.month)  \n",
        "print('Day of Week: ', dt.weekday())  # Sunday"
      ],
      "execution_count": null,
      "outputs": [
        {
          "output_type": "stream",
          "text": [
            "Year:  2020\n",
            "Day of month:  15\n",
            "Month of year:  9\n",
            "Day of Week:  1\n"
          ],
          "name": "stdout"
        }
      ]
    },
    {
      "cell_type": "markdown",
      "metadata": {
        "id": "0V6KgmSTnX1P"
      },
      "source": [
        "Vectorize – Make a scalar function work on vectors"
      ]
    },
    {
      "cell_type": "code",
      "metadata": {
        "id": "IVdVpcFAm_Ez",
        "outputId": "32a94cf3-f209-421c-8694-46826b059f41",
        "colab": {
          "base_uri": "https://localhost:8080/",
          "height": 51
        }
      },
      "source": [
        "# Define a scalar function\n",
        "def foo(x):\n",
        "    if x % 2 == 1:\n",
        "        return x**2\n",
        "    else:\n",
        "        return x/2\n",
        "\n",
        "# On a scalar\n",
        "print('x = 10 returns ', foo(10))\n",
        "print('x = 11 returns ', foo(11))\n"
      ],
      "execution_count": null,
      "outputs": [
        {
          "output_type": "stream",
          "text": [
            "x = 10 returns  5.0\n",
            "x = 11 returns  121\n"
          ],
          "name": "stdout"
        }
      ]
    },
    {
      "cell_type": "code",
      "metadata": {
        "id": "O2J5IH0ynmev",
        "outputId": "0b866c4d-8f70-4007-8af2-f947ad158030",
        "colab": {
          "base_uri": "https://localhost:8080/",
          "height": 68
        }
      },
      "source": [
        "# Vectorize foo(). Make it work on vectors.\n",
        "foo_v = np.vectorize(foo, otypes=[float])\n",
        "\n",
        "print('x = [10, 11, 12] returns ', foo_v([10, 11, 12]))\n",
        "print('x = [[10, 11, 12], [1, 2, 3]] returns ', foo_v([[10, 11, 12], [1, 2, 3]]))"
      ],
      "execution_count": null,
      "outputs": [
        {
          "output_type": "stream",
          "text": [
            "x = [10, 11, 12] returns  [  5. 121.   6.]\n",
            "x = [[10, 11, 12], [1, 2, 3]] returns  [[  5. 121.   6.]\n",
            " [  1.   1.   9.]]\n"
          ],
          "name": "stdout"
        }
      ]
    },
    {
      "cell_type": "markdown",
      "metadata": {
        "id": "Hb4qNV2jn_mX"
      },
      "source": [
        "Apply a function column wise or row wise"
      ]
    },
    {
      "cell_type": "code",
      "metadata": {
        "id": "Fdo3FO2dnwvx",
        "outputId": "8e6d58ed-016b-495e-adcb-45b24b6ad4bd",
        "colab": {
          "base_uri": "https://localhost:8080/",
          "height": 85
        }
      },
      "source": [
        "# Create a 4x10 random array\n",
        "np.random.seed(100)\n",
        "arr_x = np.random.randint(1,10,size=[4,6])\n",
        "arr_x"
      ],
      "execution_count": null,
      "outputs": [
        {
          "output_type": "execute_result",
          "data": {
            "text/plain": [
              "array([[9, 9, 4, 8, 8, 1],\n",
              "       [5, 3, 6, 3, 3, 3],\n",
              "       [2, 1, 9, 5, 1, 7],\n",
              "       [3, 5, 2, 6, 4, 5]])"
            ]
          },
          "metadata": {
            "tags": []
          },
          "execution_count": 78
        }
      ]
    },
    {
      "cell_type": "code",
      "metadata": {
        "id": "uoNGTmQ7oEnV",
        "outputId": "bf891cd2-c9b1-461d-a48d-1c8668411be5",
        "colab": {
          "base_uri": "https://localhost:8080/",
          "height": 51
        }
      },
      "source": [
        "# Define func1d\n",
        "def max_minus_min(x):\n",
        "    return np.max(x) - np.min(x)\n",
        "\n",
        "# Apply along the rows\n",
        "print('Row wise: ', np.apply_along_axis(max_minus_min, 1, arr=arr_x))\n",
        "\n",
        "# Apply along the columns\n",
        "print('Column wise: ', np.apply_along_axis(max_minus_min, 0, arr=arr_x))"
      ],
      "execution_count": null,
      "outputs": [
        {
          "output_type": "stream",
          "text": [
            "Row wise:  [8 3 8 4]\n",
            "Column wise:  [7 8 7 5 7 6]\n"
          ],
          "name": "stdout"
        }
      ]
    },
    {
      "cell_type": "markdown",
      "metadata": {
        "id": "q-cSN8AwoNJC"
      },
      "source": [
        "Find the location to insert so the array will remain sorted"
      ]
    },
    {
      "cell_type": "code",
      "metadata": {
        "id": "c6-ukFWzoJZG",
        "outputId": "b1d274a9-ee8e-452b-cf0a-f9737696c5e1",
        "colab": {
          "base_uri": "https://localhost:8080/",
          "height": 51
        }
      },
      "source": [
        "# example of searchsorted\n",
        "x = np.arange(10)\n",
        "print('Where should 5 be inserted?: ', np.searchsorted(x, 5))\n",
        "print('Where should 5 be inserted (right)?: ', np.searchsorted(x, 5, side='right'))"
      ],
      "execution_count": null,
      "outputs": [
        {
          "output_type": "stream",
          "text": [
            "Where should 5 be inserted?:  5\n",
            "Where should 5 be inserted (right)?:  6\n"
          ],
          "name": "stdout"
        }
      ]
    },
    {
      "cell_type": "code",
      "metadata": {
        "id": "wp0PO8oSoRdI",
        "outputId": "17d5bd8d-706a-49c0-abbb-7c6c6bb8fa24",
        "colab": {
          "base_uri": "https://localhost:8080/",
          "height": 51
        }
      },
      "source": [
        "# Randomly choose an item from a list based on a predefined probability\n",
        "lst = range(10000)  # the list\n",
        "probs = np.random.random(10000); probs /= probs.sum()  # probabilities\n",
        "\n",
        "%timeit lst[np.searchsorted(probs.cumsum(), np.random.random())]\n",
        "%timeit np.random.choice(lst, p=probs)"
      ],
      "execution_count": null,
      "outputs": [
        {
          "output_type": "stream",
          "text": [
            "10000 loops, best of 3: 38.5 µs per loop\n",
            "1000 loops, best of 3: 1.49 ms per loop\n"
          ],
          "name": "stdout"
        }
      ]
    },
    {
      "cell_type": "markdown",
      "metadata": {
        "id": "ULT55ByPo2ji"
      },
      "source": [
        "Clip"
      ]
    },
    {
      "cell_type": "code",
      "metadata": {
        "id": "pRLcaWE_oxSA",
        "outputId": "0813dd95-31fb-4d5d-ff31-b849aaf0509a",
        "colab": {
          "base_uri": "https://localhost:8080/",
          "height": 34
        }
      },
      "source": [
        "# Cap all elements of x to lie between 3 and 8\n",
        "np.clip(x, 1, 7)"
      ],
      "execution_count": null,
      "outputs": [
        {
          "output_type": "execute_result",
          "data": {
            "text/plain": [
              "array([1, 1, 2, 3, 4, 5, 6, 7, 7, 7])"
            ]
          },
          "metadata": {
            "tags": []
          },
          "execution_count": 84
        }
      ]
    },
    {
      "cell_type": "markdown",
      "metadata": {
        "id": "g889Fdc2DrSp"
      },
      "source": [
        "**Numpy Exercises**"
      ]
    },
    {
      "cell_type": "markdown",
      "metadata": {
        "id": "pCxt_HdcERjJ"
      },
      "source": [
        "**1. How to create a 1D array?**"
      ]
    },
    {
      "cell_type": "markdown",
      "metadata": {
        "id": "fWo9Wv2bEdNh"
      },
      "source": [
        "Q. Create a 1D array of numbers from 0 to 9"
      ]
    },
    {
      "cell_type": "code",
      "metadata": {
        "id": "QaVByq3gpVNu",
        "outputId": "2f62afdc-2623-49b8-db34-544cc621c477",
        "colab": {
          "base_uri": "https://localhost:8080/",
          "height": 34
        }
      },
      "source": [
        "array = np.arange(10)\n",
        "print(array)"
      ],
      "execution_count": null,
      "outputs": [
        {
          "output_type": "stream",
          "text": [
            "[0 1 2 3 4 5 6 7 8 9]\n"
          ],
          "name": "stdout"
        }
      ]
    },
    {
      "cell_type": "markdown",
      "metadata": {
        "id": "xUw4avmVE6lO"
      },
      "source": [
        "**2. How to create a boolean array?**"
      ]
    },
    {
      "cell_type": "markdown",
      "metadata": {
        "id": "5N5MUy2wFBUz"
      },
      "source": [
        "Q. Create a 3×3 numpy array of all True’s"
      ]
    },
    {
      "cell_type": "code",
      "metadata": {
        "id": "aKs84Xo7Eujc",
        "outputId": "ebca0884-c746-453d-b8b2-da4f31392235",
        "colab": {
          "base_uri": "https://localhost:8080/",
          "height": 68
        }
      },
      "source": [
        "print(np.ones((3,3), dtype=bool))"
      ],
      "execution_count": null,
      "outputs": [
        {
          "output_type": "stream",
          "text": [
            "[[ True  True  True]\n",
            " [ True  True  True]\n",
            " [ True  True  True]]\n"
          ],
          "name": "stdout"
        }
      ]
    },
    {
      "cell_type": "markdown",
      "metadata": {
        "id": "-HAS9jRfF2Y1"
      },
      "source": [
        "**3. How to extract items that satisfy a given condition from 1D array?**"
      ]
    },
    {
      "cell_type": "markdown",
      "metadata": {
        "id": "7-Xyv5UWF9us"
      },
      "source": [
        "Q. Extract all odd numbers from arr\n",
        "\n",
        "Input:"
      ]
    },
    {
      "cell_type": "code",
      "metadata": {
        "id": "ThLBbK3dFRPt"
      },
      "source": [
        "arr = np.array([0, 1, 2, 3, 4, 5, 6, 7, 8, 9])"
      ],
      "execution_count": null,
      "outputs": []
    },
    {
      "cell_type": "code",
      "metadata": {
        "id": "vLQSqpiNKfY_",
        "outputId": "0c36e85b-3c59-45ab-9bc1-a29e3b5abef3",
        "colab": {
          "base_uri": "https://localhost:8080/",
          "height": 34
        }
      },
      "source": [
        "a=[i for i in arr if i%2!=0]\n",
        "print(a)   "
      ],
      "execution_count": null,
      "outputs": [
        {
          "output_type": "stream",
          "text": [
            "[1, 3, 5, 7, 9]\n"
          ],
          "name": "stdout"
        }
      ]
    },
    {
      "cell_type": "markdown",
      "metadata": {
        "id": "dWHmelKjKzJ9"
      },
      "source": [
        "**4. How to replace items that satisfy a condition with another value in numpy array?**"
      ]
    },
    {
      "cell_type": "markdown",
      "metadata": {
        "id": "IMc1_ahGK9Ln"
      },
      "source": [
        "Q. Replace all odd numbers in arr with -1\n",
        "\n",
        "Input:"
      ]
    },
    {
      "cell_type": "code",
      "metadata": {
        "id": "g_NhEJbqKyJp"
      },
      "source": [
        "arr = np.array([0, 1, 2, 3, 4, 5, 6, 7, 8, 9])"
      ],
      "execution_count": null,
      "outputs": []
    },
    {
      "cell_type": "code",
      "metadata": {
        "id": "kCYbwp7iKnMZ",
        "outputId": "9b0ce99e-d5f9-4d89-f28e-afcf358129ed",
        "colab": {
          "base_uri": "https://localhost:8080/",
          "height": 34
        }
      },
      "source": [
        "arr = np.where(arr%2==1, -1, arr)\n",
        "print(arr)"
      ],
      "execution_count": null,
      "outputs": [
        {
          "output_type": "stream",
          "text": [
            "[ 0 -1  2 -1  4 -1  6 -1  8 -1]\n"
          ],
          "name": "stdout"
        }
      ]
    },
    {
      "cell_type": "markdown",
      "metadata": {
        "id": "gX1OrzZfLXPd"
      },
      "source": [
        "**5. How to replace items that satisfy a condition without affecting the original array?**"
      ]
    },
    {
      "cell_type": "markdown",
      "metadata": {
        "id": "GNy_QKQTLWsT"
      },
      "source": [
        "Q. Replace all odd numbers in arr with -1 without changing arr\n",
        "\n",
        "Input:"
      ]
    },
    {
      "cell_type": "code",
      "metadata": {
        "id": "X7tu3jkMLMhL"
      },
      "source": [
        "arr = np.array([0, 1, 2, 3, 4, 5, 6, 7, 8, 9])"
      ],
      "execution_count": null,
      "outputs": []
    },
    {
      "cell_type": "code",
      "metadata": {
        "id": "3WzfEKLiLn2Z",
        "outputId": "200fb3b2-9673-4ed9-e41b-cc559a52de7f",
        "colab": {
          "base_uri": "https://localhost:8080/",
          "height": 34
        }
      },
      "source": [
        "arr2 = np.where(arr%2==1, -1, arr)\n",
        "print(arr2)"
      ],
      "execution_count": null,
      "outputs": [
        {
          "output_type": "stream",
          "text": [
            "[ 0 -1  2 -1  4 -1  6 -1  8 -1]\n"
          ],
          "name": "stdout"
        }
      ]
    },
    {
      "cell_type": "markdown",
      "metadata": {
        "id": "BMCqjzpJL-ej"
      },
      "source": [
        "**6. How to reshape an array?**"
      ]
    },
    {
      "cell_type": "markdown",
      "metadata": {
        "id": "RcFNeE1AL-yd"
      },
      "source": [
        "Q. Convert a 1D array to a 2D array with 2 rows\n",
        "\n",
        "Input:"
      ]
    },
    {
      "cell_type": "code",
      "metadata": {
        "id": "LGjedhJHMMiC",
        "outputId": "a22788be-25a0-4434-eaf1-bd429a418189",
        "colab": {
          "base_uri": "https://localhost:8080/",
          "height": 34
        }
      },
      "source": [
        "np.arange(10)"
      ],
      "execution_count": null,
      "outputs": [
        {
          "output_type": "execute_result",
          "data": {
            "text/plain": [
              "array([0, 1, 2, 3, 4, 5, 6, 7, 8, 9])"
            ]
          },
          "metadata": {
            "tags": []
          },
          "execution_count": 104
        }
      ]
    },
    {
      "cell_type": "code",
      "metadata": {
        "id": "Ph_7wja1MNCW",
        "outputId": "26ea46d6-c77a-46fe-fe7c-d448fb680536",
        "colab": {
          "base_uri": "https://localhost:8080/",
          "height": 51
        }
      },
      "source": [
        "arr3 = np.reshape(arr, (2,5))\n",
        "print(arr3)"
      ],
      "execution_count": null,
      "outputs": [
        {
          "output_type": "stream",
          "text": [
            "[[ 0 -1  2 -1  4]\n",
            " [-1  6 -1  8 -1]]\n"
          ],
          "name": "stdout"
        }
      ]
    },
    {
      "cell_type": "markdown",
      "metadata": {
        "id": "nLtdMksSMaVw"
      },
      "source": [
        "**7. How to stack two arrays vertically?**"
      ]
    },
    {
      "cell_type": "markdown",
      "metadata": {
        "id": "4RDg-4SOMaBt"
      },
      "source": [
        "Q. Stack arrays a and b vertically\n",
        "\n",
        "Input"
      ]
    },
    {
      "cell_type": "code",
      "metadata": {
        "id": "51rwgAtZMXUk"
      },
      "source": [
        "a = np.arange(10).reshape(2,-1)\n",
        "b = np.repeat(1, 10).reshape(2,-1)"
      ],
      "execution_count": null,
      "outputs": []
    },
    {
      "cell_type": "code",
      "metadata": {
        "id": "T65mg-DLNIAQ",
        "outputId": "eab67950-56bd-4e26-a0f9-1ed1f38c2811",
        "colab": {
          "base_uri": "https://localhost:8080/",
          "height": 85
        }
      },
      "source": [
        "np.vstack((a,b))"
      ],
      "execution_count": null,
      "outputs": [
        {
          "output_type": "execute_result",
          "data": {
            "text/plain": [
              "array([[0, 1, 2, 3, 4],\n",
              "       [5, 6, 7, 8, 9],\n",
              "       [1, 1, 1, 1, 1],\n",
              "       [1, 1, 1, 1, 1]])"
            ]
          },
          "metadata": {
            "tags": []
          },
          "execution_count": 107
        }
      ]
    },
    {
      "cell_type": "markdown",
      "metadata": {
        "id": "d1hh2AY_Nlqe"
      },
      "source": [
        "**8. How to stack two arrays horizontally?**"
      ]
    },
    {
      "cell_type": "markdown",
      "metadata": {
        "id": "NTSHKlmEsplN"
      },
      "source": [
        "Q. Stack the arrays a and b horizontally.\n",
        "\n",
        "Input"
      ]
    },
    {
      "cell_type": "code",
      "metadata": {
        "id": "L8ths3bGsryD"
      },
      "source": [
        "a = np.arange(10).reshape(2,-1)\n",
        "\n",
        "b = np.repeat(1, 10).reshape(2,-1)"
      ],
      "execution_count": null,
      "outputs": []
    },
    {
      "cell_type": "code",
      "metadata": {
        "id": "mS6TTqpXtM0t",
        "outputId": "86d5a13f-1477-4a3c-8a67-91df89965d56",
        "colab": {
          "base_uri": "https://localhost:8080/",
          "height": 51
        }
      },
      "source": [
        "np.hstack((a,b))"
      ],
      "execution_count": null,
      "outputs": [
        {
          "output_type": "execute_result",
          "data": {
            "text/plain": [
              "array([[0, 1, 2, 3, 4, 1, 1, 1, 1, 1],\n",
              "       [5, 6, 7, 8, 9, 1, 1, 1, 1, 1]])"
            ]
          },
          "metadata": {
            "tags": []
          },
          "execution_count": 108
        }
      ]
    },
    {
      "cell_type": "markdown",
      "metadata": {
        "id": "Q6Iwo9uTwTSj"
      },
      "source": [
        "**9. How to get the common items between two python numpy arrays?**"
      ]
    },
    {
      "cell_type": "markdown",
      "metadata": {
        "id": "v5MLPVeCwbYZ"
      },
      "source": [
        "Q. Get the common items between a and b\n",
        "\n",
        "Input:"
      ]
    },
    {
      "cell_type": "code",
      "metadata": {
        "id": "_wMe91sbvydB"
      },
      "source": [
        "a = np.array([1,2,3,2,3,4,3,4,5,6])\n",
        "b = np.array([7,2,10,2,7,4,9,4,9,8])"
      ],
      "execution_count": null,
      "outputs": []
    },
    {
      "cell_type": "code",
      "metadata": {
        "id": "d3anPg4Cwfzh",
        "outputId": "f15ac0fd-d747-4735-b099-c2061d1c385d",
        "colab": {
          "base_uri": "https://localhost:8080/",
          "height": 34
        }
      },
      "source": [
        "a = np.array([1,2,3,2,3,4,3,4,5,6])\n",
        "b = np.array([7,2,10,2,7,4,9,4,9,8])\n",
        "np.intersect1d(a,b)"
      ],
      "execution_count": null,
      "outputs": [
        {
          "output_type": "execute_result",
          "data": {
            "text/plain": [
              "array([2, 4])"
            ]
          },
          "metadata": {
            "tags": []
          },
          "execution_count": 110
        }
      ]
    },
    {
      "cell_type": "markdown",
      "metadata": {
        "id": "wcyQNCsawoRM"
      },
      "source": [
        "**10. How to remove from one array those items that exist in another?**"
      ]
    },
    {
      "cell_type": "markdown",
      "metadata": {
        "id": "CW0XJUcowwRp"
      },
      "source": [
        "Q. From array a remove all items present in array b\n",
        "\n",
        "Input:"
      ]
    },
    {
      "cell_type": "code",
      "metadata": {
        "id": "n5ZV-m6RwnGy"
      },
      "source": [
        "a = np.array([1,2,3,4,5])\n",
        "b = np.array([5,6,7,8,9])"
      ],
      "execution_count": null,
      "outputs": []
    },
    {
      "cell_type": "code",
      "metadata": {
        "id": "RDlYd-Q_wjMe",
        "outputId": "0bf16499-3261-45f2-86c4-ca46709d7b20",
        "colab": {
          "base_uri": "https://localhost:8080/",
          "height": 88
        }
      },
      "source": [
        "x = np.intersect1d(a,b)\n",
        "print(np.delete(a,x))"
      ],
      "execution_count": null,
      "outputs": [
        {
          "output_type": "stream",
          "text": [
            "[1 2 3 4 5]\n"
          ],
          "name": "stdout"
        },
        {
          "output_type": "stream",
          "text": [
            "/usr/local/lib/python3.6/dist-packages/ipykernel_launcher.py:2: DeprecationWarning: in the future out of bounds indices will raise an error instead of being ignored by `numpy.delete`.\n",
            "  \n"
          ],
          "name": "stderr"
        }
      ]
    },
    {
      "cell_type": "markdown",
      "metadata": {
        "id": "3Tqgae3lxDPk"
      },
      "source": [
        "**11. How to get the positions where elements of two arrays match?**"
      ]
    },
    {
      "cell_type": "markdown",
      "metadata": {
        "id": "zDwdOOA-xPHT"
      },
      "source": [
        "Q. Get the positions where elements of a and b match\n",
        "\n",
        "Input:"
      ]
    },
    {
      "cell_type": "code",
      "metadata": {
        "id": "pdDyDUJBxAYF"
      },
      "source": [
        "a = np.array([1,2,3,2,3,4,3,4,5,6])\n",
        "b = np.array([7,2,10,2,7,4,9,4,9,8])"
      ],
      "execution_count": null,
      "outputs": []
    },
    {
      "cell_type": "code",
      "metadata": {
        "id": "g-gR5NquxYn8",
        "outputId": "63d72dc6-4776-41a9-8fca-637d41d6d0ca",
        "colab": {
          "base_uri": "https://localhost:8080/",
          "height": 34
        }
      },
      "source": [
        "np.where(a == b)"
      ],
      "execution_count": null,
      "outputs": [
        {
          "output_type": "execute_result",
          "data": {
            "text/plain": [
              "(array([1, 3, 5, 7]),)"
            ]
          },
          "metadata": {
            "tags": []
          },
          "execution_count": 124
        }
      ]
    },
    {
      "cell_type": "markdown",
      "metadata": {
        "id": "nC56GDiPxgF9"
      },
      "source": [
        "**12. How to extract all numbers between a given range from a numpy array?**"
      ]
    },
    {
      "cell_type": "markdown",
      "metadata": {
        "id": "ZeoKp67PxfxI"
      },
      "source": [
        "Q. Get all items between 5 and 10 from a.\n",
        "\n",
        "Input:"
      ]
    },
    {
      "cell_type": "code",
      "metadata": {
        "id": "PFosr6WKxceY"
      },
      "source": [
        "a = np.array([2, 6, 1, 9, 10, 3, 27])"
      ],
      "execution_count": null,
      "outputs": []
    },
    {
      "cell_type": "code",
      "metadata": {
        "id": "eZnUHBv_xtbs",
        "outputId": "8991632e-f1ec-40aa-e532-812515cec34f",
        "colab": {
          "base_uri": "https://localhost:8080/",
          "height": 34
        }
      },
      "source": [
        "b = [i for i in a if (i>=5) and (i<=10)]\n",
        "print(b)"
      ],
      "execution_count": null,
      "outputs": [
        {
          "output_type": "stream",
          "text": [
            "[6, 9, 10]\n"
          ],
          "name": "stdout"
        }
      ]
    },
    {
      "cell_type": "markdown",
      "metadata": {
        "id": "IKcfGM-lyldk"
      },
      "source": [
        "**13. How to make a python function that handles scalars to work on numpy arrays?**"
      ]
    },
    {
      "cell_type": "markdown",
      "metadata": {
        "id": "PlkLeIdzylQD"
      },
      "source": [
        "Q. Convert the function maxx that works on two scalars, to work on two arrays.\n",
        "\n",
        "Input:"
      ]
    },
    {
      "cell_type": "code",
      "metadata": {
        "id": "shvqnn-QykXp",
        "outputId": "a1443499-32e1-4d22-c870-14bbbc7e16f6",
        "colab": {
          "base_uri": "https://localhost:8080/",
          "height": 34
        }
      },
      "source": [
        "def maxx(x, y):\n",
        "    \"\"\"Get the maximum of two items\"\"\"\n",
        "    if x >= y:\n",
        "        return x\n",
        "    else:\n",
        "        return y\n",
        "\n",
        "maxx(7, 14)\n",
        "#> 5"
      ],
      "execution_count": null,
      "outputs": [
        {
          "output_type": "execute_result",
          "data": {
            "text/plain": [
              "14"
            ]
          },
          "metadata": {
            "tags": []
          },
          "execution_count": 130
        }
      ]
    },
    {
      "cell_type": "code",
      "metadata": {
        "id": "wJ2Yqd-WykAH",
        "outputId": "945c76b2-f95c-4b93-9ffc-31a2c79fa2bc",
        "colab": {
          "base_uri": "https://localhost:8080/",
          "height": 34
        }
      },
      "source": [
        "def maxx(x, y):\n",
        "    \"\"\"Get the maximum of two items\"\"\"\n",
        "    if x >= y:\n",
        "        return x\n",
        "    else:\n",
        "        return y\n",
        "\n",
        "pair_max = np.vectorize(maxx, otypes=[float])\n",
        "\n",
        "a = np.array([15, 17, 29, 88, 64, 44, 54])\n",
        "b = np.array([66, 13, 14, 18, 94, 77, 11])\n",
        "\n",
        "pair_max(a, b)"
      ],
      "execution_count": null,
      "outputs": [
        {
          "output_type": "execute_result",
          "data": {
            "text/plain": [
              "array([66., 17., 29., 88., 94., 77., 54.])"
            ]
          },
          "metadata": {
            "tags": []
          },
          "execution_count": 131
        }
      ]
    },
    {
      "cell_type": "markdown",
      "metadata": {
        "id": "hB7akebZzGeY"
      },
      "source": [
        "**14. How to swap two columns in a 2d numpy array?**"
      ]
    },
    {
      "cell_type": "markdown",
      "metadata": {
        "id": "Tl7t53CxzGQa"
      },
      "source": [
        "Q. Swap columns 1 and 2 in the array arr.\n",
        "\n",
        "Input:"
      ]
    },
    {
      "cell_type": "code",
      "metadata": {
        "id": "ptxLM0myx3hb",
        "outputId": "25a6d415-6b41-43db-a1b2-b6b9f4f7f82e",
        "colab": {
          "base_uri": "https://localhost:8080/",
          "height": 68
        }
      },
      "source": [
        "arr = np.arange(9).reshape(3,3)\n",
        "arr"
      ],
      "execution_count": null,
      "outputs": [
        {
          "output_type": "execute_result",
          "data": {
            "text/plain": [
              "array([[0, 1, 2],\n",
              "       [3, 4, 5],\n",
              "       [6, 7, 8]])"
            ]
          },
          "metadata": {
            "tags": []
          },
          "execution_count": 132
        }
      ]
    },
    {
      "cell_type": "code",
      "metadata": {
        "id": "kcQ4vTMQzZ_3",
        "outputId": "a0b92e8d-c037-476f-d76e-da0a733ad5ee",
        "colab": {
          "base_uri": "https://localhost:8080/",
          "height": 68
        }
      },
      "source": [
        "arr[:, [1,0]] = arr[:, [0,1]]\n",
        "arr"
      ],
      "execution_count": null,
      "outputs": [
        {
          "output_type": "execute_result",
          "data": {
            "text/plain": [
              "array([[1, 0, 2],\n",
              "       [4, 3, 5],\n",
              "       [7, 6, 8]])"
            ]
          },
          "metadata": {
            "tags": []
          },
          "execution_count": 133
        }
      ]
    },
    {
      "cell_type": "markdown",
      "metadata": {
        "id": "cpIEmszTzFlo"
      },
      "source": [
        "**15. How to swap two rows in a 2d numpy array?**"
      ]
    },
    {
      "cell_type": "markdown",
      "metadata": {
        "id": "9hrHCipNznWj"
      },
      "source": [
        "Q. Swap rows 1 and 2 in the array arr:\n",
        "\n",
        "Input:"
      ]
    },
    {
      "cell_type": "code",
      "metadata": {
        "id": "NkXU4T3kzuVe",
        "outputId": "7f565dc8-a29b-4ba0-b285-1ffec6c18e02",
        "colab": {
          "base_uri": "https://localhost:8080/",
          "height": 68
        }
      },
      "source": [
        "arr = np.arange(9).reshape(3,3)\n",
        "arr"
      ],
      "execution_count": null,
      "outputs": [
        {
          "output_type": "execute_result",
          "data": {
            "text/plain": [
              "array([[0, 1, 2],\n",
              "       [3, 4, 5],\n",
              "       [6, 7, 8]])"
            ]
          },
          "metadata": {
            "tags": []
          },
          "execution_count": 278
        }
      ]
    },
    {
      "cell_type": "code",
      "metadata": {
        "id": "MBUsh37o1pjb",
        "outputId": "63aaf4df-9f74-47dd-b708-7ba59cca701b",
        "colab": {
          "base_uri": "https://localhost:8080/",
          "height": 68
        }
      },
      "source": [
        "arr[[0,1], :] = arr[[1,0], :]\n",
        "arr"
      ],
      "execution_count": null,
      "outputs": [
        {
          "output_type": "execute_result",
          "data": {
            "text/plain": [
              "array([[4, 3, 5],\n",
              "       [1, 0, 2],\n",
              "       [7, 6, 8]])"
            ]
          },
          "metadata": {
            "tags": []
          },
          "execution_count": 134
        }
      ]
    },
    {
      "cell_type": "markdown",
      "metadata": {
        "id": "_wU6H-Sv240a"
      },
      "source": [
        "**16. How to print only 3 decimal places in python numpy array?**"
      ]
    },
    {
      "cell_type": "markdown",
      "metadata": {
        "id": "-whikEu224lc"
      },
      "source": [
        "Q. Print or show only 3 decimal places of the numpy array rand_arr."
      ]
    },
    {
      "cell_type": "code",
      "metadata": {
        "id": "0eCPCoF22q5J"
      },
      "source": [
        "#Input:\n",
        "\n",
        "rand_arr = np.random.random((5,3))"
      ],
      "execution_count": null,
      "outputs": []
    },
    {
      "cell_type": "code",
      "metadata": {
        "id": "3F_mp9YH3M12",
        "outputId": "18331775-6d32-4d75-8678-caade90d772f",
        "colab": {
          "base_uri": "https://localhost:8080/",
          "height": 102
        }
      },
      "source": [
        "np.around(rand_arr, decimals = 3)"
      ],
      "execution_count": null,
      "outputs": [
        {
          "output_type": "execute_result",
          "data": {
            "text/plain": [
              "array([[0.24, 0.2 , 0.08],\n",
              "       [0.35, 0.63, 0.47],\n",
              "       [0.07, 0.15, 0.68],\n",
              "       [0.71, 0.47, 0.38],\n",
              "       [0.86, 0.81, 0.1 ]])"
            ]
          },
          "metadata": {
            "tags": []
          },
          "execution_count": 136
        }
      ]
    },
    {
      "cell_type": "markdown",
      "metadata": {
        "id": "Hs7qfQUs3yjo"
      },
      "source": [
        "**17. How to limit the number of items printed in output of numpy array?**"
      ]
    },
    {
      "cell_type": "markdown",
      "metadata": {
        "id": "sBPe7_OJ38QQ"
      },
      "source": [
        "Q. Limit the number of items printed in python numpy array a to a maximum of 6 elements.\n",
        "\n",
        "Input:"
      ]
    },
    {
      "cell_type": "code",
      "metadata": {
        "id": "jHA-kR3r3x_8"
      },
      "source": [
        "a = np.arange(15)"
      ],
      "execution_count": null,
      "outputs": []
    },
    {
      "cell_type": "code",
      "metadata": {
        "id": "cSAFukAv4FyS",
        "outputId": "6c89b16f-c706-4de9-bdf4-491defe49216",
        "colab": {
          "base_uri": "https://localhost:8080/",
          "height": 34
        }
      },
      "source": [
        "np.resize(a,(1,6))"
      ],
      "execution_count": null,
      "outputs": [
        {
          "output_type": "execute_result",
          "data": {
            "text/plain": [
              "array([[0, 1, 2, 3, 4, 5]])"
            ]
          },
          "metadata": {
            "tags": []
          },
          "execution_count": 144
        }
      ]
    }
  ]
}